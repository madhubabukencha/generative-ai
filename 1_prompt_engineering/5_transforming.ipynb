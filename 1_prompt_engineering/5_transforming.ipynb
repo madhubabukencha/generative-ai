{
 "cells": [
  {
   "cell_type": "markdown",
   "id": "2774265e-e538-44de-a748-74d7bd9fbac7",
   "metadata": {
    "tags": []
   },
   "source": [
    "<p style=\"color:#153462; \n",
    "          font-weight: bold; \n",
    "          font-size: 30px; \n",
    "          font-family: Gill Sans, sans-serif; \n",
    "          text-align: center;\">\n",
    "          Transforming</p>"
   ]
  },
  {
   "cell_type": "markdown",
   "id": "74270c11-46bc-41ce-ad6b-835ce604b77b",
   "metadata": {},
   "source": [
    "<p style=\"text-align: justify; text-justify: inter-word; font-family: cursive;\">\n",
    "       In this notebook, you will explore how to use Large Language Models for text transformation tasks such as language translation, spelling and grammar checking, tone adjustment, and format conversion.\n",
    "</p>"
   ]
  },
  {
   "cell_type": "markdown",
   "id": "58f12836-02ec-47dc-9347-fe3b2ef09a9e",
   "metadata": {},
   "source": [
    " ### <span style=\"color:#C738BD; font-weight: bold; font-family: cursive\">Setting-Up Environment</span>"
   ]
  },
  {
   "cell_type": "code",
   "execution_count": 25,
   "id": "c967b98c-ee38-45e7-9d73-eabbad0b6bad",
   "metadata": {
    "tags": []
   },
   "outputs": [],
   "source": [
    "from openai import OpenAI\n",
    "import os"
   ]
  },
  {
   "cell_type": "code",
   "execution_count": 2,
   "id": "fb8e0683-510d-40ed-8dd9-91a715023ef7",
   "metadata": {
    "tags": []
   },
   "outputs": [],
   "source": [
    "client = OpenAI(\n",
    "  api_key = os.getenv(\"OPENAI\")\n",
    ")\n",
    "\n",
    "def get_completion(prompt, model=\"gpt-4o-2024-05-13\"):\n",
    "    messages = [{\"role\": \"user\", \"content\": prompt}]\n",
    "    completion = client.chat.completions.create(\n",
    "        model=model,\n",
    "        messages=messages,\n",
    "        # temperature: A higher value, such as 0.8, makes the answers more diverse,\n",
    "        # while a lower value, like 0.2, makes them more focused and deterministic.\n",
    "        temperature=0.2, \n",
    "    )\n",
    "    return completion.choices[0].message.content"
   ]
  },
  {
   "cell_type": "markdown",
   "id": "e439edd4-d301-4c33-a757-9a903b727b8c",
   "metadata": {},
   "source": [
    "### <span style=\"color:#C738BD; font-weight: bold; font-family: cursive\">Text-Translation</span>"
   ]
  },
  {
   "cell_type": "code",
   "execution_count": 3,
   "id": "7c5d75c9-95fb-49db-ab92-b67261f42b82",
   "metadata": {
    "tags": []
   },
   "outputs": [
    {
     "name": "stdout",
     "output_type": "stream",
     "text": [
      "నేను కంప్యూటర్ మానిటర్ ఆర్డర్ చేయాలనుకుంటున్నాను.\n"
     ]
    }
   ],
   "source": [
    "prompt = f\"\"\"\n",
    "Translate the following English text to Telugu: \\ \n",
    "```I would like to order computer monitor```\n",
    "\"\"\"\n",
    "response = get_completion(prompt)\n",
    "print(response)"
   ]
  },
  {
   "cell_type": "code",
   "execution_count": 4,
   "id": "afb60721-69f3-4754-beea-ad640e7b9ed2",
   "metadata": {
    "tags": []
   },
   "outputs": [
    {
     "name": "stdout",
     "output_type": "stream",
     "text": [
      "The language in the backticks is Telugu.\n"
     ]
    }
   ],
   "source": [
    "prompt = f\"\"\"\n",
    "Identify the language in backticks: \\ \n",
    "```రాయుడి గురించి ధోనీ మాట్లాడుతూ.. అతడు మైదానంలో ఉంటే నూటికి నూరు శాతం అంకితభావంతో ఆడతాడన్నాడు```\n",
    "\"\"\"\n",
    "response = get_completion(prompt)\n",
    "print(response)\n"
   ]
  },
  {
   "cell_type": "code",
   "execution_count": 5,
   "id": "22de7167-7d21-445b-81c7-076e39aa9de6",
   "metadata": {
    "tags": []
   },
   "outputs": [
    {
     "name": "stdout",
     "output_type": "stream",
     "text": [
      "Sure, here is the text converted into English, Hindi, and Tamil:\n",
      "\n",
      "**English:**\n",
      "\"Speaking about Rayudu, Dhoni said that when he is on the field, he plays with 100% dedication.\"\n",
      "\n",
      "**Hindi:**\n",
      "\"रायुडू के बारे में बात करते हुए, धोनी ने कहा कि जब वह मैदान पर होता है, तो वह 100% समर्पण के साथ खेलता है।\"\n",
      "\n",
      "**Tamil:**\n",
      "\"ராயுடு பற்றி பேசும் போது, தோனி அவர் மைதானத்தில் இருக்கும் போது, 100% அர்ப்பணிப்புடன் விளையாடுவார் என்று கூறினார்.\"\n"
     ]
    }
   ],
   "source": [
    "prompt = f\"\"\"\n",
    "Convert text in backticks into English, Hindi and Tamil: \\ \n",
    "```రాయుడి గురించి ధోనీ మాట్లాడుతూ.. అతడు మైదానంలో ఉంటే నూటికి నూరు శాతం అంకితభావంతో ఆడతాడన్నాడు```\n",
    "\"\"\"\n",
    "response = get_completion(prompt)\n",
    "print(response)"
   ]
  },
  {
   "cell_type": "code",
   "execution_count": 6,
   "id": "0cea96d6-71c0-4e6a-9069-d709a8b0add7",
   "metadata": {
    "tags": []
   },
   "outputs": [
    {
     "name": "stdout",
     "output_type": "stream",
     "text": [
      "Sure, here is the conversion of the given text into both formal and informal English:\n",
      "\n",
      "**Formal English:**\n",
      "\"Speaking about Rayudu, Dhoni mentioned that he plays with one hundred percent dedication when he is on the field.\"\n",
      "\n",
      "**Informal English:**\n",
      "\"Talking about Rayudu, Dhoni said that he gives his all when he's out there playing.\"\n"
     ]
    }
   ],
   "source": [
    "prompt = f\"\"\"\n",
    "Convert text in backticks into both in formal and informal english: \\ \n",
    "```రాయుడి గురించి ధోనీ మాట్లాడుతూ.. అతడు మైదానంలో ఉంటే నూటికి నూరు శాతం అంకితభావంతో ఆడతాడన్నాడు```\n",
    "\"\"\"\n",
    "response = get_completion(prompt)\n",
    "print(response)"
   ]
  },
  {
   "cell_type": "markdown",
   "id": "33d6ec82-e5ae-487d-93bd-990d48f4dbc4",
   "metadata": {},
   "source": [
    "### <span style=\"color:#C738BD; font-weight: bold; font-family: cursive\">Tone Transformation</span>"
   ]
  },
  {
   "cell_type": "markdown",
   "id": "8f9ac23e-523f-4bed-af40-2679c8f8880f",
   "metadata": {},
   "source": [
    "<p style=\"text-align: justify; text-justify: inter-word; font-family: cursive;\">\n",
    "    Writing can vary based on the intended audience. ChatGPT can produce different tones.\n",
    "</p>"
   ]
  },
  {
   "cell_type": "code",
   "execution_count": 7,
   "id": "485216b1-61b5-4c63-926d-31b88573c8b4",
   "metadata": {
    "tags": []
   },
   "outputs": [
    {
     "name": "stdout",
     "output_type": "stream",
     "text": [
      "Subject: Review of Standing Lamp Specifications\n",
      "\n",
      "Dear [Recipient's Name],\n",
      "\n",
      "I hope this message finds you well.\n",
      "\n",
      "My name is Joe, and I would like to bring to your attention the specifications of a standing lamp that I believe may be of interest to you. Please find the detailed specifications attached for your review.\n",
      "\n",
      "Thank you for your time and consideration.\n",
      "\n",
      "Best regards,\n",
      "Joe\n"
     ]
    }
   ],
   "source": [
    "prompt = f\"\"\"\n",
    "Translate the following from slang to a business letter: \n",
    "'Dude, This is Joe, check out this spec on this standing lamp.'\n",
    "\"\"\"\n",
    "response = get_completion(prompt)\n",
    "print(response)"
   ]
  },
  {
   "cell_type": "markdown",
   "id": "53e143eb-520e-4bbc-8dde-f387d65ac90f",
   "metadata": {},
   "source": [
    "### <span style=\"color:#C738BD; font-weight: bold; font-family: cursive\">Format Conversion</span>"
   ]
  },
  {
   "cell_type": "code",
   "execution_count": 12,
   "id": "7bddcae4-c887-4f04-879f-1d2bd1ed6b12",
   "metadata": {
    "tags": []
   },
   "outputs": [
    {
     "data": {
      "text/html": [
       "To convert the given Python dictionary from JSON to an HTML table with column headers and a title, you can use the following HTML code:\n",
       "\n",
       "```html\n",
       "<!DOCTYPE html>\n",
       "<html lang=\"en\">\n",
       "<head>\n",
       "    <meta charset=\"UTF-8\">\n",
       "    <meta name=\"viewport\" content=\"width=device-width, initial-scale=1.0\">\n",
       "    <title>Restaurant Employees</title>\n",
       "    <style>\n",
       "        table {\n",
       "            width: 50%;\n",
       "            border-collapse: collapse;\n",
       "            margin: 25px 0;\n",
       "            font-size: 18px;\n",
       "            text-align: left;\n",
       "        }\n",
       "        th, td {\n",
       "            padding: 12px;\n",
       "            border-bottom: 1px solid #ddd;\n",
       "        }\n",
       "        th {\n",
       "            background-color: #f2f2f2;\n",
       "        }\n",
       "    </style>\n",
       "</head>\n",
       "<body>\n",
       "\n",
       "<h2>Restaurant Employees</h2>\n",
       "\n",
       "<table>\n",
       "    <thead>\n",
       "        <tr>\n",
       "            <th>Name</th>\n",
       "            <th>Email</th>\n",
       "        </tr>\n",
       "    </thead>\n",
       "    <tbody>\n",
       "        <tr>\n",
       "            <td>Shyam</td>\n",
       "            <td>shyamjaiswal@gmail.com</td>\n",
       "        </tr>\n",
       "        <tr>\n",
       "            <td>Bob</td>\n",
       "            <td>bob32@gmail.com</td>\n",
       "        </tr>\n",
       "        <tr>\n",
       "            <td>Jai</td>\n",
       "            <td>jai87@gmail.com</td>\n",
       "        </tr>\n",
       "    </tbody>\n",
       "</table>\n",
       "\n",
       "</body>\n",
       "</html>\n",
       "```\n",
       "\n",
       "This HTML code will render a table with the title \"Restaurant Employees\" and two columns: \"Name\" and \"Email\". Each row in the table corresponds to an employee from the provided dictionary. The table is styled with some basic CSS for better readability."
      ],
      "text/plain": [
       "<IPython.core.display.HTML object>"
      ]
     },
     "metadata": {},
     "output_type": "display_data"
    }
   ],
   "source": [
    "data_json = { \"resturant employees\" :[ \n",
    "    {\"name\":\"Shyam\", \"email\":\"shyamjaiswal@gmail.com\"},\n",
    "    {\"name\":\"Bob\", \"email\":\"bob32@gmail.com\"},\n",
    "    {\"name\":\"Jai\", \"email\":\"jai87@gmail.com\"}\n",
    "]}\n",
    "\n",
    "prompt = f\"\"\"\n",
    "Translate the following python dictionary from JSON to an HTML \\\n",
    "table with column headers and title: {data_json}\n",
    "\"\"\"\n",
    "response = get_completion(prompt)\n",
    "from IPython.display import display, Markdown, Latex, HTML, JSON\n",
    "display(HTML(response))"
   ]
  },
  {
   "cell_type": "markdown",
   "id": "e46e8c0a-c3b4-41c6-8276-43d7495ae3d4",
   "metadata": {},
   "source": [
    "### <span style=\"color:#C738BD; font-weight: bold; font-family: cursive\">Grammer Check</span>"
   ]
  },
  {
   "cell_type": "code",
   "execution_count": 23,
   "id": "b673f8ed-ca4f-4526-aaaa-aa2edbd15a65",
   "metadata": {
    "tags": []
   },
   "outputs": [
    {
     "name": "stdout",
     "output_type": "stream",
     "text": [
      "Got this for my daughter for her birthday because she keeps taking mine from my room. Yes, adults also like pandas too. She takes it everywhere with her, and it's super soft and cute. One of the ears is a bit lower than the other, and I don't think that was designed to be asymmetrical. It's a bit small for what I paid for it, though. I think there might be other options that are bigger for the same price. It arrived a day earlier than expected, so I got to play with it myself before I gave it to my daughter.\n"
     ]
    }
   ],
   "source": [
    "text = f\"\"\"\n",
    "Got this for my daughter for her birthday cuz she keeps taking \\\n",
    "mine from my room.  Yes, adults also like pandas too. She takes \\\n",
    "it everywhere with her, and it's super soft and cute. One of the \\\n",
    "ears is a bit lower than the other, and I don't think that was \\\n",
    "designed to be asymmetrical. It's a bit small for what I paid for it \\\n",
    "though. I think there might be other options that are big for \\\n",
    "the same price. It arrived a day earlier than expacted, so I got \\\n",
    "to play with it myself before I gave it to my daughter.\n",
    "\"\"\"\n",
    "prompt = f\"proofread and correct this review: ```{text}``` and return only corrected paragraph\"\n",
    "response = get_completion(prompt)\n",
    "print(response)"
   ]
  },
  {
   "cell_type": "code",
   "execution_count": 24,
   "id": "d9481963-fefe-457b-b437-d4575844a84d",
   "metadata": {
    "tags": []
   },
   "outputs": [
    {
     "data": {
      "text/markdown": [
       "Got this for my daughter for her birthday <span style=\"color:red;font-weight:700;text-decoration:line-through;\">cuz </span><span style=\"color:red;font-weight:700;\">because </span>she keeps taking mine from my <span style=\"color:red;font-weight:700;text-decoration:line-through;\">room.  </span><span style=\"color:red;font-weight:700;\">room. </span>Yes, adults also like pandas too. She takes it everywhere with her, and it's super soft and cute. One of the ears is a bit lower than the other, and I don't think that was designed to be asymmetrical. It's a bit small for what I paid for <span style=\"color:red;font-weight:700;text-decoration:line-through;\">it </span><span style=\"color:red;font-weight:700;\">it, </span>though. I think there might be other options that are <span style=\"color:red;font-weight:700;text-decoration:line-through;\">big </span><span style=\"color:red;font-weight:700;\">bigger </span>for the same price. It arrived a day earlier than <span style=\"color:red;font-weight:700;text-decoration:line-through;\">expacted, </span><span style=\"color:red;font-weight:700;\">expected, </span>so I got to play with it myself before I gave it to my daughter."
      ],
      "text/plain": [
       "<IPython.core.display.Markdown object>"
      ]
     },
     "metadata": {},
     "output_type": "display_data"
    }
   ],
   "source": [
    "# !pip install redlines\n",
    "from redlines import Redlines\n",
    "\n",
    "diff = Redlines(text,response)\n",
    "display(Markdown(diff.output_markdown))"
   ]
  },
  {
   "cell_type": "code",
   "execution_count": null,
   "id": "590c2891-18c4-4ee9-9f5e-505a2860cdee",
   "metadata": {},
   "outputs": [],
   "source": []
  }
 ],
 "metadata": {
  "kernelspec": {
   "display_name": "Python 3 (ipykernel)",
   "language": "python",
   "name": "python3"
  },
  "language_info": {
   "codemirror_mode": {
    "name": "ipython",
    "version": 3
   },
   "file_extension": ".py",
   "mimetype": "text/x-python",
   "name": "python",
   "nbconvert_exporter": "python",
   "pygments_lexer": "ipython3",
   "version": "3.11.2"
  }
 },
 "nbformat": 4,
 "nbformat_minor": 5
}
