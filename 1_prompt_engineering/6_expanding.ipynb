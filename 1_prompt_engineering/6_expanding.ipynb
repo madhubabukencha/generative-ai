{
 "cells": [
  {
   "cell_type": "markdown",
   "id": "e80d7de8-b11e-4460-b028-32ea145fb45f",
   "metadata": {},
   "source": [
    "<p style=\"color:#153462; \n",
    "          font-weight: bold; \n",
    "          font-size: 30px; \n",
    "          font-family: Gill Sans, sans-serif; \n",
    "          text-align: center;\">\n",
    "          Expanding</p>"
   ]
  },
  {
   "cell_type": "markdown",
   "id": "e8cb50bf-f816-4a19-88dc-01df03a36545",
   "metadata": {},
   "source": [
    "<p style=\"text-align: justify; text-justify: inter-word; font-family: cursive;\">\n",
    "    In this lesson, you will generate customer service emails that are tailored to each customer's review.\n",
    "</p>"
   ]
  },
  {
   "cell_type": "markdown",
   "id": "fc9246fb-44b5-412f-a6c9-8a0ee8298b81",
   "metadata": {},
   "source": [
    "### <span style=\"color:#C738BD; font-weight: bold; font-family: cursive\">Setting-Up Environment</span>"
   ]
  },
  {
   "cell_type": "code",
   "execution_count": 1,
   "id": "5ee67dcc-c038-4696-a465-fc321888cdb1",
   "metadata": {
    "tags": []
   },
   "outputs": [],
   "source": [
    "from openai import OpenAI\n",
    "import os"
   ]
  },
  {
   "cell_type": "code",
   "execution_count": 2,
   "id": "d62dfde2-aaa4-4672-b063-3a53c0704727",
   "metadata": {
    "tags": []
   },
   "outputs": [],
   "source": [
    "client = OpenAI(\n",
    "  api_key = os.getenv(\"OPENAI\")\n",
    ")\n",
    "\n",
    "def get_completion(prompt, model=\"gpt-4o-2024-05-13\", temperature=0):\n",
    "    messages = [{\"role\": \"user\", \"content\": prompt}]\n",
    "    completion = client.chat.completions.create(\n",
    "        model=model,\n",
    "        messages=messages,\n",
    "        # temperature: A higher value, such as 0.8, makes the answers more diverse,\n",
    "        # while a lower value, like 0.2, makes them more focused and deterministic.\n",
    "        temperature=temperature, \n",
    "    )\n",
    "    return completion.choices[0].message.content"
   ]
  },
  {
   "cell_type": "markdown",
   "id": "f88ac7b5-f4ec-4249-8f5a-032cc853a259",
   "metadata": {},
   "source": [
    "### <span style=\"color:#C738BD; font-weight: bold; font-family: cursive\">Customize the automated reply to a customer email</span>"
   ]
  },
  {
   "cell_type": "code",
   "execution_count": 3,
   "id": "92fe3963-087e-4a44-a9f0-53cdfc062453",
   "metadata": {
    "tags": []
   },
   "outputs": [],
   "source": [
    "# given the sentiment from the lesson on \"inferring\",\n",
    "# and the original customer message, customize the email\n",
    "sentiment = \"negative\"\n",
    "\n",
    "# review for a blender\n",
    "review = f\"\"\"\n",
    "So, they still had the 17 piece system on seasonal \\\n",
    "sale for around $49 in the month of November, about \\\n",
    "half off, but for some reason (call it price gouging) \\\n",
    "around the second week of December the prices all went \\\n",
    "up to about anywhere from between $70-$89 for the same \\\n",
    "system. And the 11 piece system went up around $10 or \\\n",
    "so in price also from the earlier sale price of $29. \\\n",
    "So it looks okay, but if you look at the base, the part \\\n",
    "where the blade locks into place doesn’t look as good \\\n",
    "as in previous editions from a few years ago, but I \\\n",
    "plan to be very gentle with it (example, I crush \\\n",
    "very hard items like beans, ice, rice, etc. in the \\ \n",
    "blender first then pulverize them in the serving size \\\n",
    "I want in the blender then switch to the whipping \\\n",
    "blade for a finer flour, and use the cross cutting blade \\\n",
    "first when making smoothies, then use the flat blade \\\n",
    "if I need them finer/less pulpy). Special tip when making \\\n",
    "smoothies, finely cut and freeze the fruits and \\\n",
    "vegetables (if using spinach-lightly stew soften the \\ \n",
    "spinach then freeze until ready for use-and if making \\\n",
    "sorbet, use a small to medium sized food processor) \\ \n",
    "that you plan to use that way you can avoid adding so \\\n",
    "much ice if at all-when making your smoothie. \\\n",
    "After about a year, the motor was making a funny noise. \\\n",
    "I called customer service but the warranty expired \\\n",
    "already, so I had to buy another one. FYI: The overall \\\n",
    "quality has gone done in these types of products, so \\\n",
    "they are kind of counting on brand recognition and \\\n",
    "consumer loyalty to maintain sales. Got it in about \\\n",
    "two days.\n",
    "\"\"\""
   ]
  },
  {
   "cell_type": "code",
   "execution_count": 4,
   "id": "7dc736c8-f815-487f-a5bf-2a4e55cb6de1",
   "metadata": {
    "tags": []
   },
   "outputs": [
    {
     "name": "stdout",
     "output_type": "stream",
     "text": [
      "Subject: Thank You for Your Feedback\n",
      "\n",
      "Dear Valued Customer,\n",
      "\n",
      "Thank you for taking the time to share your detailed review of our 17-piece and 11-piece systems. We sincerely apologize for the inconvenience you experienced with the price changes and the quality of the product. We understand how frustrating it can be when expectations are not met.\n",
      "\n",
      "We are sorry to hear about the issues with the motor and the overall quality of the product. Your feedback is invaluable to us, and we will certainly take it into consideration for future improvements. \n",
      "\n",
      "If you have any further concerns or need assistance, please do not hesitate to reach out to our customer service team. We are here to help and ensure you have a satisfactory experience with our products.\n",
      "\n",
      "Thank you once again for your feedback.\n",
      "\n",
      "Best regards,\n",
      "\n",
      "AI Customer Agent\n"
     ]
    }
   ],
   "source": [
    "prompt = f\"\"\"\n",
    "You are a customer service AI assistant.\n",
    "Your task is to send an email reply to a valued customer.\n",
    "Given the customer email delimited by ```, \\\n",
    "Generate a reply to thank the customer for their review.\n",
    "If the sentiment is positive or neutral, thank them for \\\n",
    "their review.\n",
    "If the sentiment is negative, apologize and suggest that \\\n",
    "they can reach out to customer service. \n",
    "Make sure to use specific details from the review.\n",
    "Write in a concise and professional tone.\n",
    "Sign the email as `AI customer agent`.\n",
    "Customer review: ```{review}```\n",
    "Review sentiment: {sentiment}\n",
    "\"\"\"\n",
    "response = get_completion(prompt)\n",
    "print(response)"
   ]
  },
  {
   "cell_type": "markdown",
   "id": "7a2b13f8-59a0-4183-b46e-7c2e2b3f6557",
   "metadata": {},
   "source": [
    "### <span style=\"color:#C738BD; font-weight: bold; font-family: cursive\">Remind the model to use details from the customer's email</span>"
   ]
  },
  {
   "cell_type": "markdown",
   "id": "93cbf94a-4f73-4eb1-b173-1cb230cb7380",
   "metadata": {},
   "source": [
    "<p style=\"text-align: justify; text-justify: inter-word; font-family: cursive;\">\n",
    "    Temparature parameter tells the degree of randomness. \n",
    "</p>"
   ]
  },
  {
   "cell_type": "markdown",
   "id": "8a9b501b-24a2-460b-82eb-0bda88aa7871",
   "metadata": {
    "tags": []
   },
   "source": [
    "<img src=\"images/tem_para_usecase.png\" alt=\"Drawing\" style=\"width: 600px;\"/>"
   ]
  },
  {
   "cell_type": "code",
   "execution_count": 5,
   "id": "6cf19820-97f7-42c7-8c7a-de8f99d583aa",
   "metadata": {
    "tags": []
   },
   "outputs": [
    {
     "name": "stdout",
     "output_type": "stream",
     "text": [
      "Subject: Thank You for Your Feedback\n",
      "\n",
      "Dear Valued Customer,\n",
      "\n",
      "Thank you for taking the time to share your detailed review with us. We appreciate your insights and are sorry to hear about your experience with our 17-piece and 11-piece systems.\n",
      "\n",
      "We apologize for any inconvenience caused by the price changes you noticed and the quality issues you described. Your feedback is invaluable in helping us improve our products and services. \n",
      "\n",
      "If you have any further concerns or need assistance, please don't hesitate to reach out to our customer service team. We are here to help and ensure you have a better experience with our products in the future.\n",
      "\n",
      "Thank you once again for your review.\n",
      "\n",
      "Best regards,\n",
      "\n",
      "AI Customer Agent\n"
     ]
    }
   ],
   "source": [
    "prompt = f\"\"\"\n",
    "You are a customer service AI assistant.\n",
    "Your task is to send an email reply to a valued customer.\n",
    "Given the customer email delimited by ```, \\\n",
    "Generate a reply to thank the customer for their review.\n",
    "If the sentiment is positive or neutral, thank them for \\\n",
    "their review.\n",
    "If the sentiment is negative, apologize and suggest that \\\n",
    "they can reach out to customer service. \n",
    "Make sure to use specific details from the review.\n",
    "Write in a concise and professional tone.\n",
    "Sign the email as `AI customer agent`.\n",
    "Customer review: ```{review}```\n",
    "Review sentiment: {sentiment}\n",
    "\"\"\"\n",
    "response = get_completion(prompt, temperature=0.7)\n",
    "print(response)"
   ]
  },
  {
   "cell_type": "code",
   "execution_count": null,
   "id": "27fd671b-b10d-4acc-a25d-fffe68b250f1",
   "metadata": {},
   "outputs": [],
   "source": []
  }
 ],
 "metadata": {
  "kernelspec": {
   "display_name": "Python 3 (ipykernel)",
   "language": "python",
   "name": "python3"
  },
  "language_info": {
   "codemirror_mode": {
    "name": "ipython",
    "version": 3
   },
   "file_extension": ".py",
   "mimetype": "text/x-python",
   "name": "python",
   "nbconvert_exporter": "python",
   "pygments_lexer": "ipython3",
   "version": "3.11.2"
  }
 },
 "nbformat": 4,
 "nbformat_minor": 5
}
