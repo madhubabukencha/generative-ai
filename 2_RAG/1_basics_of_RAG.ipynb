{
 "cells": [
  {
   "cell_type": "markdown",
   "id": "8890ffa0-ab0b-4838-84c9-e418da3f8437",
   "metadata": {},
   "source": [
    "<p style=\"color:#153462; \n",
    "          font-weight: bold; \n",
    "          font-size: 30px; \n",
    "          font-family: Gill Sans, sans-serif;\n",
    "          text-align: center;\">\n",
    "          Retrieval - Augmeted Generation (RAG)</p>"
   ]
  },
  {
   "cell_type": "markdown",
   "id": "01eb5a29-bff6-4c73-a554-7e2e16058350",
   "metadata": {},
   "source": [
    "<p style=\"text-align: justify; text-justify: inter-word; font-size:17px;\">\n",
    "    RAG has two main components:\n",
    "    <ul style=\"text-align: justify; text-justify: inter-word; font-size:17px;\">\n",
    "        <li><b>Retriever</b>: Identifies and retrieves relavant documents</li>\n",
    "        <li><b>Generator</b>: Takes retrieved docs and the input query to generate coherent and contextually relevant response</li>\n",
    "    </ul>\n",
    "</p>"
   ]
  },
  {
   "cell_type": "markdown",
   "id": "406e3b85-b918-492d-91a1-93850d8bd0e1",
   "metadata": {},
   "source": [
    "### <span style=\"color:#C738BD; font-weight: bold;\">Definition</span>"
   ]
  },
  {
   "cell_type": "markdown",
   "id": "c96538db-5291-401c-abc3-068b2b116c3f",
   "metadata": {},
   "source": [
    "<p style=\"text-align: justify; text-justify: inter-word; font-size:17px;\">\n",
    "    A framework that combines the strengths of retrieved-based systems and generation based models to produce\n",
    "    more accurate and contextual relevant response.\n",
    "</p>"
   ]
  },
  {
   "cell_type": "code",
   "execution_count": null,
   "id": "9befeecb-3f99-47b8-ac1f-4a3f6f2ed26e",
   "metadata": {},
   "outputs": [],
   "source": []
  }
 ],
 "metadata": {
  "kernelspec": {
   "display_name": "Python 3 (ipykernel)",
   "language": "python",
   "name": "python3"
  },
  "language_info": {
   "codemirror_mode": {
    "name": "ipython",
    "version": 3
   },
   "file_extension": ".py",
   "mimetype": "text/x-python",
   "name": "python",
   "nbconvert_exporter": "python",
   "pygments_lexer": "ipython3",
   "version": "3.11.2"
  }
 },
 "nbformat": 4,
 "nbformat_minor": 5
}
