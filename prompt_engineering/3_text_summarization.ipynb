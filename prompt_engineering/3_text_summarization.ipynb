{
 "cells": [
  {
   "cell_type": "markdown",
   "id": "a5255bcf-80cf-4b91-8223-39667ee6827e",
   "metadata": {},
   "source": [
    "<p style=\"color:#153462; \n",
    "          font-weight: bold; \n",
    "          font-size: 30px; \n",
    "          font-family: Gill Sans, sans-serif; \n",
    "          text-align: center;\">\n",
    "          Text Summarization</p>"
   ]
  },
  {
   "cell_type": "markdown",
   "id": "d76a5bb5-d818-4a54-91a3-18902fea2618",
   "metadata": {},
   "source": [
    "<p style=\"text-align: justify; text-justify: inter-word; font-family: cursive;\">\n",
    "       ChatGPT's text summarization, analyses the text and generate the simple summarization on the prespective that you have asked.\n",
    "</p>"
   ]
  },
  {
   "cell_type": "code",
   "execution_count": 1,
   "id": "83f1e3d7-647b-4c74-84cb-f1ad43889df7",
   "metadata": {
    "tags": []
   },
   "outputs": [],
   "source": [
    "from openai import OpenAI\n",
    "import os"
   ]
  },
  {
   "cell_type": "code",
   "execution_count": 2,
   "id": "e3de85a2-9e45-4f1d-956c-ccf9e12ae40d",
   "metadata": {
    "tags": []
   },
   "outputs": [],
   "source": [
    "client = OpenAI(\n",
    "  api_key = os.getenv(\"OPENAI\")\n",
    ")"
   ]
  },
  {
   "cell_type": "code",
   "execution_count": 3,
   "id": "3a2ca7d5-373c-416d-9642-36e4dab408d3",
   "metadata": {
    "tags": []
   },
   "outputs": [],
   "source": [
    "def get_completion(prompt, model=\"gpt-4o-2024-05-13\"):\n",
    "    messages = [{\"role\": \"user\", \"content\": prompt}]\n",
    "    completion = client.chat.completions.create(\n",
    "        model=model,\n",
    "        messages=messages,\n",
    "        # temperature: A higher value, such as 0.8, makes the answers more diverse,\n",
    "        # while a lower value, like 0.2, makes them more focused and deterministic.\n",
    "        temperature=0.2, \n",
    "    )\n",
    "    return completion.choices[0].message.content"
   ]
  },
  {
   "cell_type": "code",
   "execution_count": 4,
   "id": "d52d445d-5288-425d-9d96-a259fdded4ef",
   "metadata": {
    "tags": []
   },
   "outputs": [],
   "source": [
    "text = \"\"\"\n",
    "I will not be surprised if India’s GDP growth last year turns out to be higher than the 7% estimated earlier,\n",
    "the Governor said, noting that almost all of the 70 high frequency indicators monitored by the central bank\n",
    "have maintained growth momentum through the last quarter of 2022-23. The National Statistical Office will\n",
    "release the GDP data for 2022-23 next week.\n",
    "\n",
    "Fitch pares India’s GDP growth forecast for this year to 6% from 6.2% The RBI’s growth expectation of 6.5%\n",
    "for this year — which Mr. Das noted is higher than the 5.9% projected by the International Monetary Fund —\n",
    "is based on the hope of agriculture doing well, a normal monsoon and a sustained uptick in the services sector\n",
    ", even though geopolitical risks, slowing world trade and goods exports remain a risk.\n",
    "\"\"\""
   ]
  },
  {
   "cell_type": "code",
   "execution_count": 5,
   "id": "d187a3b4-4f59-448b-866e-6c65dcf0e16b",
   "metadata": {
    "tags": []
   },
   "outputs": [
    {
     "name": "stdout",
     "output_type": "stream",
     "text": [
      "India's GDP growth for last year may exceed the earlier estimate of 7%, according to the central bank governor. The RBI expects 6.5% growth this year, higher than the IMF's 5.9% projection, despite Fitch lowering its forecast to 6%. Key factors include agriculture, monsoon, and services sector performance.\n"
     ]
    }
   ],
   "source": [
    "prompt = f\"\"\"\n",
    "Your task is to summarize text and give the feedback about India's GDP's growth\n",
    "\n",
    "Summarize the review below, delimited by triple  backticks, in at most 50 words.\n",
    "\n",
    "text: ```{text}```\n",
    "\"\"\"\n",
    "response = get_completion(prompt)\n",
    "print(response)"
   ]
  },
  {
   "cell_type": "code",
   "execution_count": 6,
   "id": "d2ca1f9b-b8ef-452f-9f5e-38ce83bced59",
   "metadata": {
    "tags": []
   },
   "outputs": [
    {
     "name": "stdout",
     "output_type": "stream",
     "text": [
      "India's GDP growth for last year may exceed the earlier estimate of 7%, supported by strong high-frequency indicators. However, Fitch has reduced this year's forecast to 6%, while the RBI expects 6.5%, contingent on favorable agriculture, monsoon, and services sector performance despite global risks.\n",
      "\n",
      "Impact: The mixed forecasts indicate cautious optimism but highlight vulnerabilities to external factors, potentially impacting economic stability.\n"
     ]
    }
   ],
   "source": [
    "prompt = f\"\"\"\n",
    "Your task is to summarize text and give the feedback about India's GDP's growth\n",
    "\n",
    "Summarize the review below, delimited by triple  backticks, in at most 50 words and let \\\n",
    "me know is there any impact on indian economy.\n",
    "\n",
    "text: ```{text}```\n",
    "\"\"\"\n",
    "response = get_completion(prompt)\n",
    "print(response)"
   ]
  },
  {
   "cell_type": "code",
   "execution_count": 7,
   "id": "a0292a0b-7397-45ce-9e15-07c2a34a6494",
   "metadata": {
    "tags": []
   },
   "outputs": [
    {
     "name": "stdout",
     "output_type": "stream",
     "text": [
      "India's GDP growth for last year may exceed the 7% estimate, according to the RBI Governor. The National Statistical Office will release the final data soon. Fitch has reduced this year's forecast to 6%, while the RBI expects 6.5%, higher than the IMF's 5.9% projection.\n",
      "\n",
      "**Persons/Organizations involved:**\n",
      "1. RBI (Reserve Bank of India)\n",
      "2. National Statistical Office\n",
      "3. Fitch\n",
      "4. International Monetary Fund (IMF)\n"
     ]
    }
   ],
   "source": [
    "prompt = f\"\"\"\n",
    "Your task is to summarize text and give the feedback about India's GDP's growth\n",
    "\n",
    "Summarize the review below, delimited by triple  backticks, in at most 50 words. and list the\\\n",
    "persons or oragnization involved in gathering these statistics from the article.\n",
    "\n",
    "text: ```{text}```\n",
    "\"\"\"\n",
    "response = get_completion(prompt)\n",
    "print(response)"
   ]
  },
  {
   "cell_type": "code",
   "execution_count": null,
   "id": "472ed92c-abcf-4b2f-9f45-4f59368c7514",
   "metadata": {},
   "outputs": [],
   "source": []
  }
 ],
 "metadata": {
  "kernelspec": {
   "display_name": "Python 3 (ipykernel)",
   "language": "python",
   "name": "python3"
  },
  "language_info": {
   "codemirror_mode": {
    "name": "ipython",
    "version": 3
   },
   "file_extension": ".py",
   "mimetype": "text/x-python",
   "name": "python",
   "nbconvert_exporter": "python",
   "pygments_lexer": "ipython3",
   "version": "3.11.2"
  }
 },
 "nbformat": 4,
 "nbformat_minor": 5
}
