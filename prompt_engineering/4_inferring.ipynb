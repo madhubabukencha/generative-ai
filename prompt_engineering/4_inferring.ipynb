{
 "cells": [
  {
   "cell_type": "markdown",
   "id": "864bafc5-0730-4933-8b31-6faf902eed87",
   "metadata": {},
   "source": [
    "<p style=\"color:#153462; \n",
    "          font-weight: bold; \n",
    "          font-size: 30px; \n",
    "          font-family: Gill Sans, sans-serif; \n",
    "          text-align: center;\">\n",
    "          Inferring</p>"
   ]
  },
  {
   "cell_type": "markdown",
   "id": "ba1a7775-ea84-4195-8102-8b8b71182c9a",
   "metadata": {},
   "source": [
    "### <span style=\"color:#C738BD; font-weight: bold; font-family: cursive\">Breif Instroduction</span>"
   ]
  },
  {
   "cell_type": "markdown",
   "id": "f5981792-3bf7-4283-a0ba-193993e33fa8",
   "metadata": {
    "tags": []
   },
   "source": [
    "<p style=\"text-align: justify; text-justify: inter-word;font-family: cursive;\">\n",
    "    <b>Inferring:</b> deduce or conclude (something) from evidence and reasoning rather than from explicit statements.\n",
    "</p>\n",
    "\n"
   ]
  },
  {
   "cell_type": "markdown",
   "id": "0555fbd7-5976-4505-adb9-c59b82a6bc23",
   "metadata": {},
   "source": [
    "<p style=\"text-align: justify; text-justify: inter-word; font-family: cursive;\">\n",
    "       Inferring prompting technique helps for extracting names, text and identifying sentiment of a text etc..,\n",
    "</p>\n"
   ]
  },
  {
   "cell_type": "markdown",
   "id": "10073c1e-dfdd-4096-b0fe-bb3e3446c370",
   "metadata": {},
   "source": [
    "### <span style=\"color:#C738BD; font-weight: bold; font-family: cursive\">Setting up Environment</span>"
   ]
  },
  {
   "cell_type": "code",
   "execution_count": 3,
   "id": "6d79a4ed-371f-4e5b-af4c-24153ca69569",
   "metadata": {
    "tags": []
   },
   "outputs": [],
   "source": [
    "from openai import OpenAI\n",
    "import os"
   ]
  },
  {
   "cell_type": "code",
   "execution_count": 4,
   "id": "6658b590-a1e6-468a-9807-81aa97ea5e7b",
   "metadata": {
    "tags": []
   },
   "outputs": [],
   "source": [
    "client = OpenAI(\n",
    "  api_key = os.getenv(\"OPENAI\")\n",
    ")\n",
    "\n",
    "def get_completion(prompt, model=\"gpt-4o-2024-05-13\"):\n",
    "    messages = [{\"role\": \"user\", \"content\": prompt}]\n",
    "    completion = client.chat.completions.create(\n",
    "        model=model,\n",
    "        messages=messages,\n",
    "        # temperature: A higher value, such as 0.8, makes the answers more diverse,\n",
    "        # while a lower value, like 0.2, makes them more focused and deterministic.\n",
    "        temperature=0.2, \n",
    "    )\n",
    "    return completion.choices[0].message.content"
   ]
  },
  {
   "cell_type": "markdown",
   "id": "f3e898ca-b900-453b-8dbb-67920eeb44c4",
   "metadata": {},
   "source": [
    "### <span style=\"color:#C738BD; font-weight: bold; font-family: cursive\">Example of Inferring</span>"
   ]
  },
  {
   "cell_type": "code",
   "execution_count": 5,
   "id": "a5b5499e-efef-485d-9428-2e58b6f88bd0",
   "metadata": {
    "tags": []
   },
   "outputs": [],
   "source": [
    "lamp_review = \"\"\"\n",
    "Needed a nice lamp for my bedroom, and this one had \\\n",
    "additional storage and not too high of a price point. \\\n",
    "Got it fast.  The string to our lamp broke during the \\\n",
    "transit and the company happily sent over a new one. \\\n",
    "Came within a few days as well. It was easy to put \\\n",
    "together.  I had a missing part, so I contacted their \\\n",
    "support and they very quickly got me the missing piece! \\\n",
    "Lumina seems to me to be a great company that cares \\\n",
    "about their customers and products!!\n",
    "\"\"\""
   ]
  },
  {
   "cell_type": "markdown",
   "id": "3c0fc3af-4a0b-482f-94f2-911b4ed5c68a",
   "metadata": {},
   "source": [
    "#### <span style=\"color:#40A578; font-weight: bold; font-family: cursive\">Sentiment of the review</span>"
   ]
  },
  {
   "cell_type": "code",
   "execution_count": 6,
   "id": "3afac8a2-7735-4499-a138-51bccfe7ad28",
   "metadata": {
    "tags": []
   },
   "outputs": [
    {
     "name": "stdout",
     "output_type": "stream",
     "text": [
      "The sentiment of the product review is positive. The reviewer mentions several positive aspects, such as the lamp having additional storage, a reasonable price point, fast delivery, easy assembly, and excellent customer service. Despite encountering issues like a broken string and a missing part, the reviewer highlights the company's prompt and helpful response, ultimately expressing satisfaction with both the product and the company.\n"
     ]
    }
   ],
   "source": [
    "prompt = f\"\"\"\n",
    "What is the sentiment of the following product review, \n",
    "which is delimited with triple backticks?\n",
    "\n",
    "Review text: ```{lamp_review}```\n",
    "\"\"\"\n",
    "response = get_completion(prompt)\n",
    "print(response)"
   ]
  },
  {
   "cell_type": "code",
   "execution_count": 7,
   "id": "8b5dc650-d8ef-4905-a57d-601579216acb",
   "metadata": {
    "tags": []
   },
   "outputs": [
    {
     "name": "stdout",
     "output_type": "stream",
     "text": [
      "Positive\n"
     ]
    }
   ],
   "source": [
    "prompt = f\"\"\"\n",
    "What is the sentiment of the following product review, \n",
    "which is delimited with triple backticks?\n",
    "\n",
    "Give your answer as a single word, either \"positive\" \\\n",
    "or \"negative\".\n",
    "\n",
    "Review text: ```{lamp_review}```\n",
    "\"\"\"\n",
    "response = get_completion(prompt)\n",
    "print(response)"
   ]
  },
  {
   "cell_type": "markdown",
   "id": "7179e01e-f618-47cb-8a9c-bf42e0781f96",
   "metadata": {},
   "source": [
    "#### <span style=\"color:#40A578; font-weight: bold; font-family: cursive\">Identifying type of emotions</span>"
   ]
  },
  {
   "cell_type": "code",
   "execution_count": 8,
   "id": "767deed6-a620-4f6d-ba31-b2053e9e5063",
   "metadata": {
    "tags": []
   },
   "outputs": [
    {
     "name": "stdout",
     "output_type": "stream",
     "text": [
      "satisfaction, gratitude, relief, appreciation, contentment\n"
     ]
    }
   ],
   "source": [
    "prompt = f\"\"\"\n",
    "Identify a list of emotions that the writer of the \\\n",
    "following review is expressing. Include no more than \\\n",
    "five items in the list. Format your answer as a list of \\\n",
    "lower-case words separated by commas.\n",
    "\n",
    "Review text: '''{lamp_review}'''\n",
    "\"\"\"\n",
    "response = get_completion(prompt)\n",
    "print(response)"
   ]
  },
  {
   "cell_type": "code",
   "execution_count": 9,
   "id": "c6051a19-2c4c-46ec-ad93-1f113c9964c3",
   "metadata": {
    "tags": []
   },
   "outputs": [
    {
     "name": "stdout",
     "output_type": "stream",
     "text": [
      "No\n"
     ]
    }
   ],
   "source": [
    "prompt = f\"\"\"\n",
    "Is the writer of the following review expressing anger?\\\n",
    "The review is delimited with triple backticks. \\\n",
    "Give your answer as either yes or no.\n",
    "\n",
    "Review text: ```{lamp_review}```\n",
    "\"\"\"\n",
    "response = get_completion(prompt)\n",
    "print(response)"
   ]
  },
  {
   "cell_type": "markdown",
   "id": "43dc43b1-0ac6-4fb3-9b4f-94ace5eb6e9d",
   "metadata": {},
   "source": [
    "#### <span style=\"color:#40A578; font-weight: bold; font-family: cursive\">Extracting required information</span>"
   ]
  },
  {
   "cell_type": "code",
   "execution_count": 10,
   "id": "d21403ae-b462-4851-88d4-9c33f4260868",
   "metadata": {
    "tags": []
   },
   "outputs": [
    {
     "name": "stdout",
     "output_type": "stream",
     "text": [
      "```json\n",
      "{\n",
      "  \"Item\": \"Lamp\",\n",
      "  \"Brand\": \"Lumina\"\n",
      "}\n",
      "```\n"
     ]
    }
   ],
   "source": [
    "prompt = f\"\"\"\n",
    "Identify the following items from the review text: \n",
    "- Item purchased by reviewer\n",
    "- Company that made the item\n",
    "\n",
    "The review is delimited with triple backticks. \\\n",
    "Format your response as a JSON object with \\\n",
    "\"Item\" and \"Brand\" as the keys.\n",
    "If the information isn't present, use \"unknown\" \\\n",
    "as the value.\n",
    "If value found, make first letter of it as capital.\\\n",
    "Make your response as short as possible.\n",
    "  \n",
    "Review text: ```{lamp_review}```\n",
    "\"\"\"\n",
    "response = get_completion(prompt)\n",
    "print(response)"
   ]
  },
  {
   "cell_type": "markdown",
   "id": "74cbfb76-4fb0-4a88-b837-22934294adf6",
   "metadata": {},
   "source": [
    "#### <span style=\"color:#40A578; font-weight: bold; font-family: cursive\">Doing multiple actions at once</span>"
   ]
  },
  {
   "cell_type": "code",
   "execution_count": 11,
   "id": "18e4fc9b-bfe4-4318-b309-7c17352ca3cf",
   "metadata": {
    "tags": []
   },
   "outputs": [
    {
     "name": "stdout",
     "output_type": "stream",
     "text": [
      "```json\n",
      "{\n",
      "  \"Sentiment\": \"positive\",\n",
      "  \"Anger\": false,\n",
      "  \"Item\": \"lamp\",\n",
      "  \"Brand\": \"Lumina\"\n",
      "}\n",
      "```\n"
     ]
    }
   ],
   "source": [
    "prompt = f\"\"\"\n",
    "Identify the following items from the review text: \n",
    "- Sentiment (positive or negative)\n",
    "- Is the reviewer expressing anger? (true or false)\n",
    "- Item purchased by reviewer\n",
    "- Company that made the item\n",
    "\n",
    "The review is delimited with triple backticks. \\\n",
    "Format your response as a JSON object with \\\n",
    "\"Sentiment\", \"Anger\", \"Item\" and \"Brand\" as the keys.\n",
    "If the information isn't present, use \"unknown\" \\\n",
    "as the value.\n",
    "Make your response as short as possible.\n",
    "Format the Anger value as a boolean.\n",
    "\n",
    "Review text: ```{lamp_review}```\n",
    "\"\"\"\n",
    "response = get_completion(prompt)\n",
    "print(response)"
   ]
  },
  {
   "cell_type": "markdown",
   "id": "03456c87-8097-4457-a10d-d29f948f6d77",
   "metadata": {},
   "source": [
    "#### <span style=\"color:#40A578; font-weight: bold; font-family: cursive\">Identifying Topics</span>"
   ]
  },
  {
   "cell_type": "code",
   "execution_count": 12,
   "id": "8c62547e-938b-4baa-aecf-6fceebeae7eb",
   "metadata": {
    "tags": []
   },
   "outputs": [],
   "source": [
    "story = \"\"\"\n",
    "In a recent survey conducted by the government, \n",
    "public sector employees were asked to rate their level \n",
    "of satisfaction with the department they work at. \n",
    "The results revealed that NASA was the most popular \n",
    "department with a satisfaction rating of 95%.\n",
    "\n",
    "One NASA employee, John Smith, commented on the findings, \n",
    "stating, \"I'm not surprised that NASA came out on top. \n",
    "It's a great place to work with amazing people and \n",
    "incredible opportunities. I'm proud to be a part of \n",
    "such an innovative organization.\"\n",
    "\n",
    "The results were also welcomed by NASA's management team, \n",
    "with Director Tom Johnson stating, \"We are thrilled to \n",
    "hear that our employees are satisfied with their work at NASA. \n",
    "We have a talented and dedicated team who work tirelessly \n",
    "to achieve our goals, and it's fantastic to see that their \n",
    "hard work is paying off.\"\n",
    "\n",
    "The survey also revealed that the \n",
    "Social Security Administration had the lowest satisfaction \n",
    "rating, with only 45% of employees indicating they were \n",
    "satisfied with their job. The government has pledged to \n",
    "address the concerns raised by employees in the survey and \n",
    "work towards improving job satisfaction across all departments.\n",
    "\"\"\""
   ]
  },
  {
   "cell_type": "code",
   "execution_count": 24,
   "id": "1fbe3655-7499-47cb-aed5-f1696c26729a",
   "metadata": {
    "tags": []
   },
   "outputs": [
    {
     "name": "stdout",
     "output_type": "stream",
     "text": [
      "1. Survey results,\n",
      "2. NASA,\n",
      "3. Job satisfaction,\n",
      "4. Public sector,\n",
      "5. Social Security Administration\n"
     ]
    }
   ],
   "source": [
    "prompt = f\"\"\"\n",
    "Determine five topics that are being discussed in the \\\n",
    "following text, which is delimited by triple backticks.\n",
    "\n",
    "Make each item one or two words long. \n",
    "\n",
    "Format your response as a list of items separated by commas.\n",
    "\n",
    "Text sample: ```{story}```\n",
    "\"\"\"\n",
    "response = get_completion(prompt)\n",
    "print(response)"
   ]
  },
  {
   "cell_type": "code",
   "execution_count": 27,
   "id": "1f66a46d-7d47-4c94-9bdb-4ed9657337fb",
   "metadata": {
    "tags": []
   },
   "outputs": [],
   "source": [
    "temp = str(response) + \" \\n6. movies, \\n7. politics\""
   ]
  },
  {
   "cell_type": "code",
   "execution_count": 28,
   "id": "f23499a7-b721-402e-a081-df2b404d83e4",
   "metadata": {
    "tags": []
   },
   "outputs": [
    {
     "name": "stdout",
     "output_type": "stream",
     "text": [
      "1. Survey results,\n",
      "2. NASA,\n",
      "3. Job satisfaction,\n",
      "4. Public sector,\n",
      "5. Social Security Administration \n",
      "6. movies, \n",
      "7. politics\n"
     ]
    }
   ],
   "source": [
    "print(temp)"
   ]
  },
  {
   "cell_type": "code",
   "execution_count": 29,
   "id": "648f63ef-5007-4cdb-97ab-a22278983554",
   "metadata": {
    "tags": []
   },
   "outputs": [
    {
     "name": "stdout",
     "output_type": "stream",
     "text": [
      "Based on the text provided, here is the list with 0 or 1 for each topic:\n",
      "\n",
      "1. Survey results: 1\n",
      "2. NASA: 1\n",
      "3. Job satisfaction: 1\n",
      "4. Public sector: 1\n",
      "5. Social Security Administration: 1\n",
      "6. movies: 0\n",
      "7. politics: 0\n"
     ]
    }
   ],
   "source": [
    "prompt = f\"\"\"\n",
    "Determine whether each item in the following list of \\\n",
    "topics is a topic in the text below, which\n",
    "is delimited with triple backticks.\n",
    "\n",
    "Give your answer as list with 0 or 1 for each topic.\\\n",
    "\n",
    "List of topics: {temp}\n",
    "\n",
    "Text sample: ```{story}```\n",
    "\"\"\"\n",
    "response = get_completion(prompt)\n",
    "print(response)"
   ]
  },
  {
   "cell_type": "code",
   "execution_count": null,
   "id": "ebd2eef8-11ad-414b-b3af-e818c2f34c30",
   "metadata": {},
   "outputs": [],
   "source": []
  }
 ],
 "metadata": {
  "kernelspec": {
   "display_name": "Python 3 (ipykernel)",
   "language": "python",
   "name": "python3"
  },
  "language_info": {
   "codemirror_mode": {
    "name": "ipython",
    "version": 3
   },
   "file_extension": ".py",
   "mimetype": "text/x-python",
   "name": "python",
   "nbconvert_exporter": "python",
   "pygments_lexer": "ipython3",
   "version": "3.11.2"
  }
 },
 "nbformat": 4,
 "nbformat_minor": 5
}
