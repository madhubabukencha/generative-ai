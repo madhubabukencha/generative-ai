{
 "cells": [
  {
   "cell_type": "markdown",
   "id": "75fefe32-9b40-4295-aeb6-bcca3ccf46d3",
   "metadata": {},
   "source": [
    "<p style=\"color:#153462; \n",
    "          font-weight: bold; \n",
    "          font-size: 30px; \n",
    "          font-family: Gill Sans, sans-serif; \n",
    "          text-align: center;\">\n",
    "          Function Calling</p>"
   ]
  },
  {
   "cell_type": "markdown",
   "id": "b065d76d-f926-4d49-982f-cab3f0bc0b58",
   "metadata": {},
   "source": [
    "<p style=\"text-align: justify; text-justify: inter-word; font-family: cursive;\">\n",
    "    OpenAI has fine-tuned the \"gpt-3.5-turbo-0613\" and \"gpt-4-0613\" models to accept additional\n",
    "    arguments through which user can pass in description of functions. If it is relevant,\n",
    "    returns the name of the function to use along with a Json object with he appropriate input\n",
    "    parameters.\n",
    "</p>"
   ]
  },
  {
   "cell_type": "markdown",
   "id": "2e5b200b-37d4-45d3-b79c-87670f3dc39b",
   "metadata": {
    "tags": []
   },
   "source": [
    "### <span style=\"color:#C738BD; font-weight: bold; font-family: cursive\">Setting-Up Environment</span>"
   ]
  },
  {
   "cell_type": "code",
   "execution_count": 2,
   "id": "f542eded-6d9e-42c5-bf90-43c4e15939f1",
   "metadata": {},
   "outputs": [],
   "source": [
    "from openai import OpenAI\n",
    "import os"
   ]
  },
  {
   "cell_type": "code",
   "execution_count": 3,
   "id": "34dee5b8-ad71-4059-a60b-436fd05ff433",
   "metadata": {
    "tags": []
   },
   "outputs": [],
   "source": [
    "client = OpenAI(\n",
    "  api_key = os.getenv(\"OPENAI\")\n",
    ")"
   ]
  },
  {
   "cell_type": "markdown",
   "id": "6058b8ec-0b96-4dcd-b747-3ae9321d815f",
   "metadata": {},
   "source": [
    "### <span style=\"color:#C738BD; font-weight: bold; font-family: cursive\">Helper Functions</span>"
   ]
  },
  {
   "cell_type": "code",
   "execution_count": 6,
   "id": "07fab8db-104f-4ebd-a106-a94e1028b7fb",
   "metadata": {
    "tags": []
   },
   "outputs": [],
   "source": [
    "# A dummy function, which returns same weather each time\n",
    "def get_current_weather(location: str, unit: str= \"Fahreheit\") -> str:\n",
    "    \"\"\"\n",
    "    Get the current weather in a given location\n",
    "    \"\"\"\n",
    "    weather_info: dict = {\n",
    "        \"location\": location,\n",
    "        \"temperature\": 72,\n",
    "        \"unit\": unit,\n",
    "        \"forecast\": [\"sunny\", \"windy\"]\n",
    "    }\n",
    "    return json.dumps(weather_info)"
   ]
  },
  {
   "cell_type": "markdown",
   "id": "fe04340f-aab4-4670-a459-edfe595316e8",
   "metadata": {},
   "source": [
    "### <span style=\"color:#C738BD; font-weight: bold; font-family: cursive\">Defining Function</span>"
   ]
  },
  {
   "cell_type": "markdown",
   "id": "e3f01f26-8adb-4762-ac7f-c5756bdb3769",
   "metadata": {},
   "source": [
    "<p style=\"text-align: justify; text-justify: inter-word; font-family: cursive;\">\n",
    "    Below is the function(a list) which will pass to an LLM. In the below, the description\n",
    "    parameter is important because it defines the output of the model.\n",
    "</p>"
   ]
  },
  {
   "cell_type": "code",
   "execution_count": null,
   "id": "7b49b243-a693-4ab2-bd43-616ec8fe7171",
   "metadata": {},
   "outputs": [],
   "source": []
  }
 ],
 "metadata": {
  "kernelspec": {
   "display_name": "Python 3 (ipykernel)",
   "language": "python",
   "name": "python3"
  },
  "language_info": {
   "codemirror_mode": {
    "name": "ipython",
    "version": 3
   },
   "file_extension": ".py",
   "mimetype": "text/x-python",
   "name": "python",
   "nbconvert_exporter": "python",
   "pygments_lexer": "ipython3",
   "version": "3.11.2"
  }
 },
 "nbformat": 4,
 "nbformat_minor": 5
}
